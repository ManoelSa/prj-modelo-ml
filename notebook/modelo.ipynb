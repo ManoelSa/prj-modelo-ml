{
 "cells": [
  {
   "cell_type": "code",
   "execution_count": 1,
   "id": "ac16e2aa",
   "metadata": {},
   "outputs": [],
   "source": [
    "import pandas as pd\n",
    "import numpy as np\n",
    "import os\n",
    "\n",
    "from sklearn.model_selection import train_test_split\n",
    "from sklearn.metrics import (classification_report, confusion_matrix, roc_auc_score, \n",
    "                             accuracy_score, precision_score, roc_curve, recall_score,f1_score)\n",
    "from sklearn.linear_model import LogisticRegression\n",
    "from sklearn.tree import DecisionTreeClassifier\n",
    "from sklearn.model_selection import GridSearchCV\n",
    "import xgboost as xgb\n",
    "import matplotlib.pyplot as plt\n",
    "import joblib\n"
   ]
  },
  {
   "cell_type": "code",
   "execution_count": 2,
   "id": "a5698c9b",
   "metadata": {},
   "outputs": [],
   "source": [
    "\n",
    "# =========== 1) Carregar base ===========\n",
    "\"\"\"\n",
    "Dados brutos convertidos em parquet para melhor compactação e uso\n",
    "\"\"\"\n",
    "ROOT = os.path.abspath(os.path.join(os.getcwd(), \"..\"))\n",
    "file_path = os.path.join(ROOT, \"dataset\", \"DENGBR25.parquet\")\n",
    "\n",
    "df = pd.read_parquet(file_path)\n",
    "\n",
    "# =========== 2) Criar variável target (Dengue comum x grave) ===========\n",
    "map_classi_fin = {\n",
    "    10: 0,   # Dengue comum\n",
    "    11: 1,   # Dengue com sinais de alarme\n",
    "    12: 1,   # Dengue grave\n",
    "    8: None, # Inconclusivo -> descartar\n",
    "    13: None # Chikungunya -> descartar\n",
    "}\n",
    "df[\"target\"] = df[\"CLASSI_FIN\"].map(map_classi_fin)\n",
    "\n",
    "# Remover NaN do target e sexo (I-ignorado)\n",
    "df = df.dropna(subset=[\"target\"]).copy()\n",
    "df = df.loc[df['CS_SEXO'] != 'I'].copy()\n",
    "df[\"target\"] = df[\"target\"].astype(int)"
   ]
  },
  {
   "cell_type": "code",
   "execution_count": 3,
   "id": "4ffb7c6d",
   "metadata": {},
   "outputs": [
    {
     "data": {
      "text/html": [
       "<div>\n",
       "<style scoped>\n",
       "    .dataframe tbody tr th:only-of-type {\n",
       "        vertical-align: middle;\n",
       "    }\n",
       "\n",
       "    .dataframe tbody tr th {\n",
       "        vertical-align: top;\n",
       "    }\n",
       "\n",
       "    .dataframe thead th {\n",
       "        text-align: right;\n",
       "    }\n",
       "</style>\n",
       "<table border=\"1\" class=\"dataframe\">\n",
       "  <thead>\n",
       "    <tr style=\"text-align: right;\">\n",
       "      <th></th>\n",
       "      <th>nu_idade_n</th>\n",
       "      <th>cs_sexo</th>\n",
       "      <th>cs_gestant</th>\n",
       "      <th>febre</th>\n",
       "      <th>mialgia</th>\n",
       "      <th>cefaleia</th>\n",
       "      <th>exantema</th>\n",
       "      <th>vomito</th>\n",
       "      <th>nausea</th>\n",
       "      <th>dor_costas</th>\n",
       "      <th>...</th>\n",
       "      <th>hematolog</th>\n",
       "      <th>hepatopat</th>\n",
       "      <th>renal</th>\n",
       "      <th>hipertensa</th>\n",
       "      <th>acido_pept</th>\n",
       "      <th>auto_imune</th>\n",
       "      <th>dt_notific</th>\n",
       "      <th>dt_sin_pri</th>\n",
       "      <th>classi_fin</th>\n",
       "      <th>target</th>\n",
       "    </tr>\n",
       "  </thead>\n",
       "  <tbody>\n",
       "    <tr>\n",
       "      <th>0</th>\n",
       "      <td>4059</td>\n",
       "      <td>F</td>\n",
       "      <td>5.0</td>\n",
       "      <td>2.0</td>\n",
       "      <td>1.0</td>\n",
       "      <td>1.0</td>\n",
       "      <td>2.0</td>\n",
       "      <td>2.0</td>\n",
       "      <td>2.0</td>\n",
       "      <td>2.0</td>\n",
       "      <td>...</td>\n",
       "      <td>2.0</td>\n",
       "      <td>2.0</td>\n",
       "      <td>2.0</td>\n",
       "      <td>2.0</td>\n",
       "      <td>2.0</td>\n",
       "      <td>2.0</td>\n",
       "      <td>2025-01-06</td>\n",
       "      <td>2025-01-01</td>\n",
       "      <td>10.0</td>\n",
       "      <td>0</td>\n",
       "    </tr>\n",
       "  </tbody>\n",
       "</table>\n",
       "<p>1 rows × 28 columns</p>\n",
       "</div>"
      ],
      "text/plain": [
       "   nu_idade_n cs_sexo  cs_gestant  febre  mialgia  cefaleia  exantema  vomito  \\\n",
       "0        4059       F         5.0    2.0      1.0       1.0       2.0     2.0   \n",
       "\n",
       "   nausea  dor_costas  ...  hematolog  hepatopat  renal  hipertensa  \\\n",
       "0     2.0         2.0  ...        2.0        2.0    2.0         2.0   \n",
       "\n",
       "   acido_pept  auto_imune  dt_notific  dt_sin_pri  classi_fin  target  \n",
       "0         2.0         2.0  2025-01-06  2025-01-01        10.0       0  \n",
       "\n",
       "[1 rows x 28 columns]"
      ]
     },
     "execution_count": 3,
     "metadata": {},
     "output_type": "execute_result"
    }
   ],
   "source": [
    "# =========== 3) Selecionar colunas de interesse ===========\n",
    "usecols = [\n",
    "    'NU_IDADE_N','CS_SEXO','CS_GESTANT',\n",
    "    'FEBRE', 'MIALGIA', 'CEFALEIA', 'EXANTEMA', 'VOMITO', 'NAUSEA',\n",
    "    'DOR_COSTAS', 'CONJUNTVIT', 'ARTRITE', 'ARTRALGIA', 'PETEQUIA_N',\n",
    "    'LEUCOPENIA', 'LACO', 'DOR_RETRO',\n",
    "    'DIABETES', 'HEMATOLOG','HEPATOPAT','RENAL','HIPERTENSA',\n",
    "    'ACIDO_PEPT','AUTO_IMUNE',\n",
    "    'DT_NOTIFIC','DT_SIN_PRI',\n",
    "    'CLASSI_FIN','target'\n",
    "]\n",
    "df_dengue = df[usecols].copy()\n",
    "\n",
    "#Mantendo nomes das colunas em caixa baixa\n",
    "df_dengue.columns = df_dengue.columns.str.lower()\n",
    "df_dengue.head(1)"
   ]
  },
  {
   "cell_type": "code",
   "execution_count": 4,
   "id": "29b7d90a",
   "metadata": {},
   "outputs": [],
   "source": [
    "# =========== 4) Nova Feature e Ajustes ===========\n",
    "df_dengue['dt_notific'] = pd.to_datetime(df_dengue['dt_notific'])\n",
    "df_dengue['dt_sin_pri'] = pd.to_datetime(df_dengue['dt_sin_pri'])\n",
    "df_dengue['dias_sintomas'] = (df_dengue['dt_notific'] - df_dengue['dt_sin_pri']).dt.days\n",
    "df_dengue = df_dengue.drop(['dt_notific','dt_sin_pri'], axis=1)\n",
    "\n",
    "\n",
    "#Ajustando Sexo para binario\n",
    "df_dengue['cs_sexo'] = df_dengue['cs_sexo'].map({'M': 0, 'F': 1})"
   ]
  },
  {
   "cell_type": "code",
   "execution_count": 5,
   "id": "d6c8d4ac",
   "metadata": {},
   "outputs": [],
   "source": [
    "\n",
    "# =========== 5) Idade -> faixa_etaria / Gestante Agrupamento -> gestante_cat ===========\n",
    "def faixa_etaria(idade):\n",
    "    if pd.isna(idade):\n",
    "        return 'Nao Informado'\n",
    "    if idade <= 11:\n",
    "        return 'Crianca'\n",
    "    elif idade <= 17:\n",
    "        return 'Adolescente'\n",
    "    elif idade <= 59:\n",
    "        return 'Adulto'\n",
    "    else:\n",
    "        return 'Idoso'\n",
    "\n",
    "df_dengue = df_dengue.loc[df_dengue['nu_idade_n'] > 1000].copy() # Removido 3 linhas menor que 1000\n",
    "df_dengue['nu_idade_n'] = df_dengue['nu_idade_n'].astype(str).str.slice(start=1).astype(int)\n",
    "df_dengue['faixa_etaria'] = df_dengue['nu_idade_n'].apply(faixa_etaria)\n",
    "df_dengue.drop('nu_idade_n', axis=1, inplace=True)\n",
    "\n",
    "def agrupa_gestante(x):\n",
    "    if x in [1, 2, 3]:              # 1º Trimestre / 2º Trimestre / 3º Trimestre\n",
    "        return \"gestante\"\n",
    "    elif x == 5:                    # Não\n",
    "        return \"nao\"\n",
    "    elif x == 6:                    # Não se aplica\n",
    "        return \"nao_aplica\"\n",
    "    elif x in [4, 9] or pd.isna(x): # 4 Idade gestacional ignorada, 9 Ignorado\n",
    "        return \"ignorado\"\n",
    "    else:\n",
    "        return \"ignorado\"  # Para valores inesperados\n",
    "    \n",
    "df_dengue = df_dengue.dropna(subset=['cs_gestant']) # Removendo os NaN antes da classificação = 110\n",
    "df_dengue['gestante_cat'] = df_dengue['cs_gestant'].apply(agrupa_gestante)"
   ]
  },
  {
   "cell_type": "code",
   "execution_count": 6,
   "id": "bfed2943",
   "metadata": {},
   "outputs": [],
   "source": [
    "# =========== 6) Sintomas/comorbidades 1-'Sim' e 2-'Não' -> binário (1/0) ===========\n",
    "for col in ['febre', 'mialgia', 'cefaleia', 'exantema', 'vomito', 'nausea', \n",
    "            'dor_costas', 'conjuntvit', 'artrite', 'artralgia', 'petequia_n', \n",
    "            'leucopenia', 'laco', 'dor_retro',\n",
    "            'diabetes', 'hematolog', 'hepatopat', 'renal', \n",
    "            'hipertensa', 'acido_pept', 'auto_imune']:\n",
    "    df_dengue[col] = df_dengue[col].map({1.0: 1, 2.0: 0})\n",
    "    df_dengue[col] = df_dengue[col].fillna(0).astype(int) #No dataset existem 4 registros q ficaram sem, incluindo no Não pela baixa relevancia\n",
    "\n",
    "df_dengue.drop(columns=['cs_gestant'], inplace=True) # Mantendo apenas a coluna de categoria criada"
   ]
  },
  {
   "cell_type": "code",
   "execution_count": 7,
   "id": "14dd7648",
   "metadata": {},
   "outputs": [],
   "source": [
    "# =========== 7) Separando features (X) e target/class (y) ===========\n",
    "X = df_dengue.drop(['target','classi_fin'], axis=1)\n",
    "y = df_dengue['target']\n",
    "\n",
    "# One-Hot Encoding para transformar as variaveis categorias em binarias\n",
    "X = pd.get_dummies(X, columns=['faixa_etaria','gestante_cat'], drop_first=True)"
   ]
  },
  {
   "cell_type": "code",
   "execution_count": 8,
   "id": "2e726591",
   "metadata": {},
   "outputs": [],
   "source": [
    "# =========== 8) Separando treino/teste ===========\n",
    "# Dividindo o conjunto de dados em 80% para treinamento e 20% para testes.\n",
    "\n",
    "X_train, X_test, y_train, y_test = train_test_split(\n",
    "    X, y, test_size=0.2, random_state=42, stratify=y\n",
    ")"
   ]
  },
  {
   "cell_type": "markdown",
   "id": "4e8ddc84",
   "metadata": {},
   "source": [
    "# Testando modelos - Inicial"
   ]
  },
  {
   "cell_type": "code",
   "execution_count": 9,
   "id": "391b783e",
   "metadata": {},
   "outputs": [
    {
     "name": "stdout",
     "output_type": "stream",
     "text": [
      "\n",
      "--- Regressão Logística ---\n",
      "Matriz de Confusão:\n",
      " [[166253  70385]\n",
      " [  2573   3832]]\n",
      "              precision    recall  f1-score   support\n",
      "\n",
      "           0       0.98      0.70      0.82    236638\n",
      "           1       0.05      0.60      0.10      6405\n",
      "\n",
      "    accuracy                           0.70    243043\n",
      "   macro avg       0.52      0.65      0.46    243043\n",
      "weighted avg       0.96      0.70      0.80    243043\n",
      "\n",
      "AUC: 0.7019548167192651\n"
     ]
    }
   ],
   "source": [
    "# =========== 9) Modelo 1: Regressão Logística ===========\n",
    "log_reg_model = LogisticRegression(\n",
    "    class_weight='balanced',  # ajusta pesos automaticamente para lidar com desbalanceamento\n",
    "    max_iter=10000,           # número máximo de iterações para garantir convergência \n",
    "    random_state=42           # garante consistência nos resultados\n",
    ")\n",
    "\n",
    "log_reg_model.fit(X_train, y_train)\n",
    "y_pred_log = log_reg_model.predict(X_test)\n",
    "y_proba_log = log_reg_model.predict_proba(X_test)[:,1]\n",
    "\n",
    "# =========== AVALIAÇÃO ===========\n",
    "print(\"\\n--- Regressão Logística ---\")\n",
    "print(\"Matriz de Confusão:\\n\", confusion_matrix(y_test, y_pred_log))\n",
    "print(classification_report(y_test, y_pred_log))\n",
    "print(\"AUC:\", roc_auc_score(y_test, y_proba_log))"
   ]
  },
  {
   "cell_type": "code",
   "execution_count": 10,
   "id": "bb631df7",
   "metadata": {},
   "outputs": [
    {
     "name": "stdout",
     "output_type": "stream",
     "text": [
      "scale_pos_weight = 36.95\n"
     ]
    },
    {
     "name": "stderr",
     "output_type": "stream",
     "text": [
      "c:\\prj-modelo-ml\\venv\\Lib\\site-packages\\xgboost\\training.py:183: UserWarning: [15:00:37] WARNING: C:\\actions-runner\\_work\\xgboost\\xgboost\\src\\learner.cc:738: \n",
      "Parameters: { \"use_label_encoder\" } are not used.\n",
      "\n",
      "  bst.update(dtrain, iteration=i, fobj=obj)\n"
     ]
    },
    {
     "name": "stdout",
     "output_type": "stream",
     "text": [
      "\n",
      "--- XGBoost ---\n",
      "Matriz de Confusão:\n",
      " [[172930  63708]\n",
      " [  2506   3899]]\n",
      "              precision    recall  f1-score   support\n",
      "\n",
      "           0       0.99      0.73      0.84    236638\n",
      "           1       0.06      0.61      0.11      6405\n",
      "\n",
      "    accuracy                           0.73    243043\n",
      "   macro avg       0.52      0.67      0.47    243043\n",
      "weighted avg       0.96      0.73      0.82    243043\n",
      "\n",
      "AUC: 0.7248166916863545\n"
     ]
    }
   ],
   "source": [
    "# =========== 10) Modelo 2: XGBoost ===========\n",
    "\n",
    "#Calcular scale_pos_weight (proporção entre classes negativa/positiva)\n",
    "neg, pos = np.bincount(y_train)\n",
    "scale_pos_weight = neg / pos\n",
    "print(f\"scale_pos_weight = {scale_pos_weight:.2f}\")\n",
    "\n",
    "\n",
    "xgb_model = xgb.XGBClassifier(\n",
    "    objective='binary:logistic',        # problema de classificação binária\n",
    "    eval_metric='auc',                  # métrica principal AUC (robusta ao desbalanceamento)\n",
    "    use_label_encoder=False,\n",
    "    random_state=42,                    # garante consistência nos resultados\n",
    "    n_jobs=-1,                          # usa todos os núcleos disponíveis para treinar mais rápido\n",
    "    scale_pos_weight=scale_pos_weight   # ajuste para desbalanceamento\n",
    ")\n",
    "\n",
    "xgb_model.fit(X_train, y_train)\n",
    "\n",
    "# =========== AVALIAÇÃO ===========\n",
    "y_pred_xgb = xgb_model.predict(X_test)\n",
    "y_proba_xgb = xgb_model.predict_proba(X_test)[:,1]\n",
    "\n",
    "print(\"\\n--- XGBoost ---\")\n",
    "print(\"Matriz de Confusão:\\n\", confusion_matrix(y_test, y_pred_xgb))\n",
    "print(classification_report(y_test, y_pred_xgb))\n",
    "print(\"AUC:\", roc_auc_score(y_test, y_proba_xgb))"
   ]
  },
  {
   "cell_type": "code",
   "execution_count": 11,
   "id": "cc3feb1c",
   "metadata": {},
   "outputs": [
    {
     "name": "stdout",
     "output_type": "stream",
     "text": [
      "\n",
      "--- Decision Tree ---\n",
      "Matriz de Confusão:\n",
      " [[158687  77951]\n",
      " [  2402   4003]]\n",
      "\n",
      "Relatório de Classificação:\n",
      "               precision    recall  f1-score   support\n",
      "\n",
      "           0       0.99      0.67      0.80    236638\n",
      "           1       0.05      0.62      0.09      6405\n",
      "\n",
      "    accuracy                           0.67    243043\n",
      "   macro avg       0.52      0.65      0.44    243043\n",
      "weighted avg       0.96      0.67      0.78    243043\n",
      "\n",
      "AUC: 0.7030096385524522\n"
     ]
    }
   ],
   "source": [
    "# =========== 11) Modelo 3: DecisionTreeClassifier ===========\n",
    "\n",
    "dt_model = DecisionTreeClassifier(\n",
    "    max_depth=5,              # limita a profundidade da árvore (evita overfitting)\n",
    "    min_samples_split=50,     # exige pelo menos 50 amostras para dividir um nó\n",
    "    class_weight='balanced',  # ajusta pesos para lidar com classes desbalanceadas\n",
    "    random_state=42           # garante consistência nos resultados\n",
    ")\n",
    "\n",
    "dt_model.fit(X_train, y_train)\n",
    "y_pred_tree = dt_model.predict(X_test)\n",
    "y_proba_tree = dt_model.predict_proba(X_test)[:, 1]\n",
    "\n",
    "print(\"\\n--- Decision Tree ---\")\n",
    "print(\"Matriz de Confusão:\\n\", confusion_matrix(y_test, y_pred_tree))\n",
    "print(\"\\nRelatório de Classificação:\\n\", classification_report(y_test, y_pred_tree))\n",
    "print(\"AUC:\", roc_auc_score(y_test, y_proba_tree))"
   ]
  },
  {
   "cell_type": "markdown",
   "id": "9e360ea9",
   "metadata": {},
   "source": [
    "# Tuning hiperparam - Conferindo melhores modelos\n",
    "- Etapa demora em média uns 20min para conferir os melhores parametros"
   ]
  },
  {
   "cell_type": "markdown",
   "id": "dfb04427",
   "metadata": {},
   "source": [
    "### LogisticRegression"
   ]
  },
  {
   "cell_type": "code",
   "execution_count": 26,
   "id": "5b836c47",
   "metadata": {},
   "outputs": [
    {
     "name": "stdout",
     "output_type": "stream",
     "text": [
      "Fitting 3 folds for each of 8 candidates, totalling 24 fits\n",
      "Melhores parâmetros: {'C': 0.1, 'penalty': 'l2', 'solver': 'liblinear'}\n",
      "Melhor AUC (cross-val): 0.7029620846918615\n"
     ]
    }
   ],
   "source": [
    "# Grade de parâmetros\n",
    "param_grid = {\n",
    "    'C': [0.01, 0.1, 1, 10],   # força da regularização\n",
    "    'penalty': ['l1', 'l2'],   # tipo de regularização\n",
    "    'solver': ['liblinear']    # bom para bases grande\n",
    "}\n",
    "\n",
    "# Busca com validação cruzada\n",
    "lg_grid_search = GridSearchCV(\n",
    "    estimator=log_reg_model, # Modelo Base Teste Inicial\n",
    "    param_grid=param_grid,\n",
    "    scoring='roc_auc',  # pode trocar para f1, recall, etc.\n",
    "    cv=3,               # 3-fold para não pesar\n",
    "    verbose=1,\n",
    "    n_jobs=-1\n",
    ")\n",
    "\n",
    "# Treino\n",
    "lg_grid_search.fit(X_train, y_train)\n",
    "\n",
    "print(\"Melhores parâmetros:\", lg_grid_search.best_params_)\n",
    "print(\"Melhor AUC (cross-val):\", lg_grid_search.best_score_)"
   ]
  },
  {
   "cell_type": "markdown",
   "id": "ad7f312b",
   "metadata": {},
   "source": [
    "### XGBClassifier"
   ]
  },
  {
   "cell_type": "code",
   "execution_count": 27,
   "id": "9e82b2e7",
   "metadata": {},
   "outputs": [
    {
     "name": "stdout",
     "output_type": "stream",
     "text": [
      "Fitting 3 folds for each of 32 candidates, totalling 96 fits\n"
     ]
    },
    {
     "name": "stderr",
     "output_type": "stream",
     "text": [
      "c:\\prj-modelo-ml\\venv\\Lib\\site-packages\\xgboost\\training.py:183: UserWarning: [22:04:00] WARNING: C:\\actions-runner\\_work\\xgboost\\xgboost\\src\\learner.cc:738: \n",
      "Parameters: { \"use_label_encoder\" } are not used.\n",
      "\n",
      "  bst.update(dtrain, iteration=i, fobj=obj)\n"
     ]
    },
    {
     "name": "stdout",
     "output_type": "stream",
     "text": [
      "Melhores parâmetros: {'colsample_bytree': 1.0, 'learning_rate': 0.1, 'max_depth': 3, 'n_estimators': 200, 'subsample': 1.0}\n",
      "Melhor AUC (cross-val): 0.7317156960681884\n"
     ]
    }
   ],
   "source": [
    "# Grade pequena de parâmetros\n",
    "param_grid = {\n",
    "    'n_estimators': [100, 200],\n",
    "    'max_depth': [3, 5],\n",
    "    'learning_rate': [0.1, 0.01],\n",
    "    'subsample': [0.8, 1.0],\n",
    "    'colsample_bytree': [0.8, 1.0]\n",
    "}\n",
    "\n",
    "# Busca simples\n",
    "xgb_grid_search = GridSearchCV(\n",
    "    estimator=xgb_model,\n",
    "    param_grid=param_grid, # Modelo Base Teste Inicial\n",
    "    scoring='roc_auc',\n",
    "    cv=3,            # 3-fold (leve)\n",
    "    verbose=1,\n",
    "    n_jobs=-1\n",
    ")\n",
    "\n",
    "xgb_grid_search.fit(X_train, y_train)\n",
    "\n",
    "print(\"Melhores parâmetros:\", xgb_grid_search.best_params_)\n",
    "print(\"Melhor AUC (cross-val):\", xgb_grid_search.best_score_)\n"
   ]
  },
  {
   "cell_type": "markdown",
   "id": "220e86d3",
   "metadata": {},
   "source": [
    "### DecisionTreeClassifier"
   ]
  },
  {
   "cell_type": "code",
   "execution_count": 28,
   "id": "719e6307",
   "metadata": {},
   "outputs": [
    {
     "name": "stdout",
     "output_type": "stream",
     "text": [
      "Fitting 3 folds for each of 36 candidates, totalling 108 fits\n",
      "Melhores parâmetros: {'max_depth': 7, 'min_samples_leaf': 1, 'min_samples_split': 10}\n",
      "Melhor AUC (cross-val): 0.712764248372132\n"
     ]
    }
   ],
   "source": [
    "# Grade de parâmetros\n",
    "param_grid = {\n",
    "    'max_depth': [3, 5, 7, None],        # profundidade da árvore\n",
    "    'min_samples_split': [2, 10, 20],    # mínimo para dividir um nó\n",
    "    'min_samples_leaf': [1, 5, 10]       # mínimo de amostras em uma folha\n",
    "}\n",
    "\n",
    "# Busca com validação cruzada\n",
    "dt_grid_search = GridSearchCV(\n",
    "    estimator=dt_model,\n",
    "    param_grid=param_grid, # Modelo Base Teste Inicial\n",
    "    scoring='roc_auc',   # métrica principal\n",
    "    cv=3,                # 3-fold para não pesar\n",
    "    verbose=1,\n",
    "    n_jobs=-1\n",
    ")\n",
    "\n",
    "# Treino\n",
    "dt_grid_search.fit(X_train, y_train)\n",
    "\n",
    "print(\"Melhores parâmetros:\", dt_grid_search.best_params_)\n",
    "print(\"Melhor AUC (cross-val):\", dt_grid_search.best_score_)"
   ]
  },
  {
   "cell_type": "markdown",
   "id": "9e2caadc",
   "metadata": {},
   "source": [
    "# Avaliação dos Modelos"
   ]
  },
  {
   "cell_type": "code",
   "execution_count": 29,
   "id": "0b870d50",
   "metadata": {},
   "outputs": [
    {
     "name": "stdout",
     "output_type": "stream",
     "text": [
      "\n",
      "=== LogisticRegression ===\n",
      "Accuracy: 0.6999872450554018\n",
      "Precision: 0.051625342124068004\n",
      "Recall: 0.5978142076502733\n",
      "F1: 0.09504306600143968\n",
      "ROC AUC: 0.7019589851827486\n",
      "\n",
      "=== XGBClassifier ===\n",
      "Accuracy: 0.7055747336891003\n",
      "Precision: 0.0557729807862763\n",
      "Recall: 0.6385636221701796\n",
      "F1: 0.10258596904863428\n",
      "ROC AUC: 0.7308861378129523\n",
      "\n",
      "=== DecisionTreeClassifier ===\n",
      "Accuracy: 0.6955723884250935\n",
      "Precision: 0.052909422878463126\n",
      "Recall: 0.6243559718969555\n",
      "F1: 0.09755205093490431\n",
      "ROC AUC: 0.7124648168783368\n"
     ]
    },
    {
     "data": {
      "image/png": "[encoded data removed]",
      "text/plain": [
       "<Figure size 800x600 with 1 Axes>"
      ]
     },
     "metadata": {},
     "output_type": "display_data"
    },
    {
     "data": {
      "text/html": [
       "<div>\n",
       "<style scoped>\n",
       "    .dataframe tbody tr th:only-of-type {\n",
       "        vertical-align: middle;\n",
       "    }\n",
       "\n",
       "    .dataframe tbody tr th {\n",
       "        vertical-align: top;\n",
       "    }\n",
       "\n",
       "    .dataframe thead th {\n",
       "        text-align: right;\n",
       "    }\n",
       "</style>\n",
       "<table border=\"1\" class=\"dataframe\">\n",
       "  <thead>\n",
       "    <tr style=\"text-align: right;\">\n",
       "      <th></th>\n",
       "      <th>accuracy</th>\n",
       "      <th>precision</th>\n",
       "      <th>recall</th>\n",
       "      <th>f1</th>\n",
       "      <th>roc_auc</th>\n",
       "    </tr>\n",
       "  </thead>\n",
       "  <tbody>\n",
       "    <tr>\n",
       "      <th>XGBClassifier</th>\n",
       "      <td>0.705575</td>\n",
       "      <td>0.055773</td>\n",
       "      <td>0.638564</td>\n",
       "      <td>0.102586</td>\n",
       "      <td>0.730886</td>\n",
       "    </tr>\n",
       "    <tr>\n",
       "      <th>DecisionTreeClassifier</th>\n",
       "      <td>0.695572</td>\n",
       "      <td>0.052909</td>\n",
       "      <td>0.624356</td>\n",
       "      <td>0.097552</td>\n",
       "      <td>0.712465</td>\n",
       "    </tr>\n",
       "    <tr>\n",
       "      <th>LogisticRegression</th>\n",
       "      <td>0.699987</td>\n",
       "      <td>0.051625</td>\n",
       "      <td>0.597814</td>\n",
       "      <td>0.095043</td>\n",
       "      <td>0.701959</td>\n",
       "    </tr>\n",
       "  </tbody>\n",
       "</table>\n",
       "</div>"
      ],
      "text/plain": [
       "                        accuracy  precision    recall        f1   roc_auc\n",
       "XGBClassifier           0.705575   0.055773  0.638564  0.102586  0.730886\n",
       "DecisionTreeClassifier  0.695572   0.052909  0.624356  0.097552  0.712465\n",
       "LogisticRegression      0.699987   0.051625  0.597814  0.095043  0.701959"
      ]
     },
     "metadata": {},
     "output_type": "display_data"
    },
    {
     "name": "stdout",
     "output_type": "stream",
     "text": [
      "Melhor modelo segundo ROC AUC: XGBClassifier\n"
     ]
    }
   ],
   "source": [
    "# ======= AVALIAÇÃO NO TEST SET: comparar os 3 modelos ajustados =======\n",
    "# Preparar os \"melhores\" modelos\n",
    "best_lr = lg_grid_search.best_estimator_\n",
    "best_gb = xgb_grid_search.best_estimator_\n",
    "best_td = dt_grid_search.best_estimator_\n",
    "\n",
    "final_models = {\n",
    "    \"LogisticRegression\": best_lr,\n",
    "    \"XGBClassifier\": best_gb,\n",
    "    \"DecisionTreeClassifier\": best_td\n",
    "}\n",
    "\n",
    "# Treinar cada modelo no conjunto inteiro de treino\n",
    "results_test = {}\n",
    "plt.figure(figsize=(8,6))\n",
    "for name, model in final_models.items():\n",
    "    # Predições\n",
    "    y_pred = model.predict(X_test)\n",
    "    y_proba = model.predict_proba(X_test)[:,1]  # prob of positive class\n",
    "    # Métricas\n",
    "    acc = accuracy_score(y_test, y_pred)\n",
    "    prec = precision_score(y_test, y_pred)\n",
    "    rec = recall_score(y_test, y_pred)\n",
    "    f1 = f1_score(y_test, y_pred)\n",
    "    rocauc = roc_auc_score(y_test, y_proba)\n",
    "    results_test[name] = {\"accuracy\":acc, \"precision\":prec, \"recall\":rec, \"f1\":f1, \"roc_auc\":rocauc}\n",
    "    print(f\"\\n=== {name} ===\")\n",
    "    print(\"Accuracy:\", acc)\n",
    "    print(\"Precision:\", prec)\n",
    "    print(\"Recall:\", rec)\n",
    "    print(\"F1:\", f1)\n",
    "    print(\"ROC AUC:\", rocauc)\n",
    "    # ROC curve\n",
    "    fpr, tpr, _ = roc_curve(y_test, y_proba)\n",
    "    plt.plot(fpr, tpr, label=f\"{name} (AUC = {rocauc:.3f})\")\n",
    "\n",
    "plt.plot([0,1],[0,1],\"k--\", alpha=0.4)\n",
    "plt.xlabel(\"False Positive Rate\")\n",
    "plt.ylabel(\"True Positive Rate\")\n",
    "plt.title(\"ROC Curves — Test set\")\n",
    "plt.legend()\n",
    "plt.show()\n",
    "\n",
    "# Mostrar resultados agregados\n",
    "res_test_df = pd.DataFrame(results_test).T\n",
    "display(res_test_df.sort_values(\"roc_auc\", ascending=False))\n",
    "\n",
    "# Escolher \"melhor\" modelo segundo métrica (por exemplo ROC AUC ou F1)\n",
    "# Aqui escolhemos por ROC AUC:\n",
    "best_name = res_test_df[\"roc_auc\"].idxmax()\n",
    "print(\"Melhor modelo segundo ROC AUC:\", best_name)"
   ]
  },
  {
   "cell_type": "markdown",
   "id": "9392125e",
   "metadata": {},
   "source": [
    "# Execução com o melhor Modelo"
   ]
  },
  {
   "cell_type": "code",
   "execution_count": 12,
   "id": "d16cc408",
   "metadata": {},
   "outputs": [
    {
     "name": "stdout",
     "output_type": "stream",
     "text": [
      "scale_pos_weight = 36.95\n"
     ]
    },
    {
     "name": "stderr",
     "output_type": "stream",
     "text": [
      "c:\\prj-modelo-ml\\venv\\Lib\\site-packages\\xgboost\\training.py:183: UserWarning: [15:01:27] WARNING: C:\\actions-runner\\_work\\xgboost\\xgboost\\src\\learner.cc:738: \n",
      "Parameters: { \"use_label_encoder\" } are not used.\n",
      "\n",
      "  bst.update(dtrain, iteration=i, fobj=obj)\n"
     ]
    },
    {
     "name": "stdout",
     "output_type": "stream",
     "text": [
      "\n",
      "--- XGBoost ---\n",
      "Matriz de Confusão:\n",
      " [[167395  69243]\n",
      " [  2315   4090]]\n",
      "              precision    recall  f1-score   support\n",
      "\n",
      "           0       0.99      0.71      0.82    236638\n",
      "           1       0.06      0.64      0.10      6405\n",
      "\n",
      "    accuracy                           0.71    243043\n",
      "   macro avg       0.52      0.67      0.46    243043\n",
      "weighted avg       0.96      0.71      0.80    243043\n",
      "\n",
      "AUC: 0.7308861378129523\n"
     ]
    }
   ],
   "source": [
    "# =========== Execução XGBoost ===========\n",
    "\n",
    "#Calcular scale_pos_weight (proporção entre classes negativa/positiva)\n",
    "neg, pos = np.bincount(y_train)\n",
    "scale_pos_weight = neg / pos\n",
    "print(f\"scale_pos_weight = {scale_pos_weight:.2f}\")\n",
    "\n",
    "\n",
    "modelo_final = xgb.XGBClassifier(\n",
    "    objective='binary:logistic',        # problema de classificação binária\n",
    "    eval_metric='auc',                  # métrica principal AUC (robusta ao desbalanceamento)\n",
    "    use_label_encoder=False,\n",
    "    random_state=42,                    # garante consistência nos resultados\n",
    "    n_jobs=-1,                          # usa todos os núcleos disponíveis para treinar mais rápido\n",
    "    scale_pos_weight=scale_pos_weight,  # ajuste para desbalanceamento\n",
    "    # melhores parâmetros encontrados no tuning\n",
    "    colsample_bytree=1.0,               # fração de colunas usada em cada árvore (regularização)\n",
    "    learning_rate=0.1,                  # taxa de aprendizado (quanto menor, mais conservador o treino)\n",
    "    max_depth=3,                        # profundidade máxima das árvores (controla complexidade)\n",
    "    n_estimators=200,                   # número de árvores (iterações de boosting)\n",
    "    subsample=1.0                       # fração das amostras usada por árvore (evita overfitting)\n",
    ")\n",
    "\n",
    "modelo_final.fit(X_train, y_train)\n",
    "\n",
    "# =========== AVALIAÇÃO ===========\n",
    "y_pred_xgb_final = modelo_final.predict(X_test)\n",
    "y_proba_xgb_final = modelo_final.predict_proba(X_test)[:,1]\n",
    "\n",
    "print(\"\\n--- XGBoost ---\")\n",
    "print(\"Matriz de Confusão:\\n\", confusion_matrix(y_test, y_pred_xgb_final))\n",
    "print(classification_report(y_test, y_pred_xgb_final))\n",
    "print(\"AUC:\", roc_auc_score(y_test, y_proba_xgb_final))"
   ]
  },
  {
   "cell_type": "markdown",
   "id": "ccf3901c",
   "metadata": {},
   "source": [
    "# Salvando Modelo"
   ]
  },
  {
   "cell_type": "code",
   "execution_count": 15,
   "id": "1ee90e25",
   "metadata": {},
   "outputs": [
    {
     "data": {
      "text/plain": [
       "['c:\\\\prj-modelo-ml\\\\models\\\\xgb_model.pkl']"
      ]
     },
     "execution_count": 15,
     "metadata": {},
     "output_type": "execute_result"
    }
   ],
   "source": [
    "file_modelo = os.path.join(ROOT, \"models\", \"xgb_model.pkl\")\n",
    "joblib.dump(xgb_model, file_modelo)"
   ]
  }
 ],
 "metadata": {
  "kernelspec": {
   "display_name": "venv (3.12.6)",
   "language": "python",
   "name": "python3"
  },
  "language_info": {
   "codemirror_mode": {
    "name": "ipython",
    "version": 3
   },
   "file_extension": ".py",
   "mimetype": "text/x-python",
   "name": "python",
   "nbconvert_exporter": "python",
   "pygments_lexer": "ipython3",
   "version": "3.12.6"
  }
 },
 "nbformat": 4,
 "nbformat_minor": 5
}
